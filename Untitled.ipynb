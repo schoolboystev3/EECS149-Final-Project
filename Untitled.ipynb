{
 "cells": [
  {
   "cell_type": "code",
   "execution_count": 4,
   "metadata": {},
   "outputs": [],
   "source": [
    "import numpy as np\n",
    "import matplotlib.pyplot as plt"
   ]
  },
  {
   "cell_type": "code",
   "execution_count": 16,
   "metadata": {},
   "outputs": [],
   "source": [
    "\n",
    "class Player:\n",
    "    #location is a length two numpy array\n",
    "        \n",
    "    def __init__(self, location = np.array([0,0])):\n",
    "        self.location = location\n",
    "        \n",
    "    def Move_Player_To_Location(self,new_location):\n",
    "        self.location = new_location\n",
    "        \n",
    "    def Shift_Player(self,shift_distance):\n",
    "        self.location += shift_distance\n",
    "        \n",
    "    def Get_Distance_From_Location(self,player, location):\n",
    "        return np.linalg.norm(self.location - location)\n",
    "    \n",
    "    def Get_Distance_From_Player(self, adversary):\n",
    "        return Get_Distance(self, adversary.location)\n",
    "    \n",
    "        \n",
    "a = Player()\n",
    "b = Player(np.array([1,2]))\n",
    "\n",
    "        \n",
    "    "
   ]
  },
  {
   "cell_type": "code",
   "execution_count": 17,
   "metadata": {},
   "outputs": [
    {
     "name": "stdout",
     "output_type": "stream",
     "text": [
      "2.23606797749979\n"
     ]
    }
   ],
   "source": [
    "\n",
    "print(a.Get_Distance_From_Player(b))"
   ]
  },
  {
   "cell_type": "code",
   "execution_count": null,
   "metadata": {},
   "outputs": [],
   "source": []
  }
 ],
 "metadata": {
  "kernelspec": {
   "display_name": "Python 3",
   "language": "python",
   "name": "python3"
  },
  "language_info": {
   "codemirror_mode": {
    "name": "ipython",
    "version": 3
   },
   "file_extension": ".py",
   "mimetype": "text/x-python",
   "name": "python",
   "nbconvert_exporter": "python",
   "pygments_lexer": "ipython3",
   "version": "3.6.9"
  }
 },
 "nbformat": 4,
 "nbformat_minor": 2
}
